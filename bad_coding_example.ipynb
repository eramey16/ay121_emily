{
 "cells": [
  {
   "cell_type": "code",
   "execution_count": 3,
   "metadata": {},
   "outputs": [
    {
     "data": {
      "text/plain": [
       "[0, 1, 1, 2, 3, 5, 8, 13, 21, 34, 55, 89]"
      ]
     },
     "execution_count": 3,
     "metadata": {},
     "output_type": "execute_result"
    }
   ],
   "source": [
    "def fib():\n",
    "    x = [] # array\n",
    "    x.append(0)\n",
    "    x.append(1)\n",
    "    a = 0 # count\n",
    "    while a < 10:\n",
    "        x.append(x[a]+x[a+1])\n",
    "        a = a + 1\n",
    "    return x\n",
    "\n",
    "fib()"
   ]
  },
  {
   "cell_type": "code",
   "execution_count": 6,
   "metadata": {},
   "outputs": [],
   "source": [
    "# multipy lists\n",
    "def mult(a, b):\n",
    "    x = []\n",
    "    for i in range(len(a)):\n",
    "        x.append(a[i]*b[i])\n",
    "\n",
    "l1 = [1, 2, 3]\n",
    "l2 = [4, 5, 6]\n",
    "\n",
    "mult(l1, l2) # Will this work? Why or why not?"
   ]
  },
  {
   "cell_type": "code",
   "execution_count": 10,
   "metadata": {},
   "outputs": [
    {
     "data": {
      "text/plain": [
       "True"
      ]
     },
     "execution_count": 10,
     "metadata": {},
     "output_type": "execute_result"
    }
   ],
   "source": [
    "# check if a list is in ascending order\n",
    "def checkOrder(L):\n",
    "    isSorted = True\n",
    "    for i in range(len(L)-1):\n",
    "        if L[i] > L[i+1]:\n",
    "            isSorted = False\n",
    "    return isSorted\n",
    "\n",
    "checkOrder([0, 1, 2, 3])"
   ]
  },
  {
   "cell_type": "code",
   "execution_count": null,
   "metadata": {},
   "outputs": [],
   "source": []
  }
 ],
 "metadata": {
  "kernelspec": {
   "display_name": "Python 3",
   "language": "python",
   "name": "python3"
  },
  "language_info": {
   "codemirror_mode": {
    "name": "ipython",
    "version": 3
   },
   "file_extension": ".py",
   "mimetype": "text/x-python",
   "name": "python",
   "nbconvert_exporter": "python",
   "pygments_lexer": "ipython3",
   "version": "3.7.4"
  }
 },
 "nbformat": 4,
 "nbformat_minor": 4
}
